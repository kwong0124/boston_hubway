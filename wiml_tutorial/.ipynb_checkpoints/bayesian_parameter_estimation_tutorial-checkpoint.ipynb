{
 "cells": [
  {
   "cell_type": "markdown",
   "metadata": {},
   "source": [
    "# Recommended reading"
   ]
  },
  {
   "cell_type": "markdown",
   "metadata": {},
   "source": [
    "Bayesian parameter estimation supersedes the t-test (Kruschke):\n",
    "\n",
    "https://www.krigolsonteaching.com/uploads/4/3/8/4/43848243/kruschke2012jepg.pdf\n",
    "\n",
    "\n",
    "Blog post on bayesian inference for parameter estimation:\n",
    "\n",
    "https://towardsdatascience.com/probability-concepts-explained-bayesian-inference-for-parameter-estimation-90e8930e5348\n",
    "\n",
    "\n",
    "Doing bayesian data analysis (Kruschke) - this is a text book but it's very easy to read:\n",
    "\n",
    "https://www.amazon.com/Doing-Bayesian-Data-Analysis-Tutorial/dp/0124058884/ref=sr_1_2?gclid=Cj0KCQjwtr_mBRDeARIsALfBZA5eGMYTq2sXJYqDWP7tDLtVCZyQBTF3q2i5fxBKK3yLyXk1lxZ0yWAaAtmVEALw_wcB&hvadid=177324924950&hvdev=c&hvlocphy=1018127&hvnetw=g&hvpos=1t1&hvqmt=e&hvrand=6582771769838659026&hvtargid=kwd-28002132345&hydadcr=3208_9861567&keywords=doing+bayesian+data+analysis&qid=1557190781&s=gateway&sr=8-2\n",
    "\n",
    "\n",
    "Information on conjugate priors (including a table to calculate posterior distributions for conjugate priors):\n",
    "\n",
    "https://en.wikipedia.org/wiki/Conjugate_prior\n",
    "\n",
    "\n",
    "Bayes theorem:\n",
    "\n",
    "https://en.wikipedia.org/wiki/Bayes%27_theorem"
   ]
  },
  {
   "cell_type": "markdown",
   "metadata": {},
   "source": [
    "## Some questions you may want to answer with data...\n",
    "- How much is one group different from another? \n",
    "- Can we be sure that the difference between groups is non-zero?\n",
    "- What is the magnitude of the difference and how certain are we about this magnitude?\n",
    "\n",
    "## We need statistical methods to answer questions with data because data is noisy\n",
    "\n",
    "## Bayesian analysis is more intuitive than traditional methods of null hypothesis testing"
   ]
  },
  {
   "cell_type": "markdown",
   "metadata": {
    "collapsed": true
   },
   "source": [
    "# A few notes on Bayesian inference \n",
    "- Bayesian inference is the reallocation of credibility across a space of candidate possibilities\n",
    "- We realocate belief toward the parameter values that are consistent with the data, and away from parameter values are the inconsistent with the data\n",
    "- Based on Bayes theorem - but we represent models of our data using distributions rather than single values\n",
    "- We don't need p-values for bayesian inference\n",
    "- Bayesian methods can accept the null hypotheses (unlike traditional methods)\n",
    "- Decisions based on Bayesian analysis are better founded than traditional null hypothesis testing, whether or not the two methods agree\n",
    "- Bayesian estimation does not require the assumption that the data are normally distributed"
   ]
  },
  {
   "cell_type": "markdown",
   "metadata": {},
   "source": [
    "# Some definitions:\n",
    "\n",
    "### Bayes theorem for parameters:\n",
    "P(paramter | data) = P(parameters) * P(data | parameters) / P(data)\n",
    "we usually get rid of P(data) because it is just a normalizing constant to ensure our distribution sums to one, and it is almost always very difficult to calculate, and not relally necessary. \n",
    "Posterior = Prior distribution (beliefs) * Likelihood \n",
    "(data) \n",
    "\n",
    "### Prior distribution:\n",
    "expresses our previous knowledge about parameter values, without including new data (but can include previously collected data or subject matter expertise / experience) - unless you have good reason to believe otherwise, usually make the prior distribution very broad and vague so that it doens't overwhelm the posterior\n",
    "\n",
    "### Likelihood: \n",
    "Essentially, this is a model (distribution) used to represent our data\n",
    "\n",
    "### Posterior: \n",
    "This is the result of applying bayes theorem for models "
   ]
  },
  {
   "cell_type": "code",
   "execution_count": null,
   "metadata": {
    "collapsed": true
   },
   "outputs": [],
   "source": []
  }
 ],
 "metadata": {
  "kernelspec": {
   "display_name": "Python 3",
   "language": "python",
   "name": "python3"
  },
  "language_info": {
   "codemirror_mode": {
    "name": "ipython",
    "version": 3
   },
   "file_extension": ".py",
   "mimetype": "text/x-python",
   "name": "python",
   "nbconvert_exporter": "python",
   "pygments_lexer": "ipython3",
   "version": "3.6.3"
  }
 },
 "nbformat": 4,
 "nbformat_minor": 2
}
