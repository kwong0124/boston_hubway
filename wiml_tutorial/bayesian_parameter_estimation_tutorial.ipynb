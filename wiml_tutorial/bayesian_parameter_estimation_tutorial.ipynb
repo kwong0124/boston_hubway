{
 "cells": [
  {
   "cell_type": "code",
   "execution_count": 1,
   "metadata": {
    "collapsed": true
   },
   "outputs": [],
   "source": [
    "import numpy as np\n",
    "import matplotlib.pyplot as plt\n",
    "import seaborn as sns\n",
    "import math\n",
    "from typing import List, Tuple"
   ]
  },
  {
   "cell_type": "markdown",
   "metadata": {},
   "source": [
    "# Recommended reading"
   ]
  },
  {
   "cell_type": "markdown",
   "metadata": {},
   "source": [
    "Bayesian parameter estimation supersedes the t-test (Kruschke):\n",
    "\n",
    "https://www.krigolsonteaching.com/uploads/4/3/8/4/43848243/kruschke2012jepg.pdf\n",
    "\n",
    "\n",
    "Blog post on bayesian inference for parameter estimation:\n",
    "\n",
    "https://towardsdatascience.com/probability-concepts-explained-bayesian-inference-for-parameter-estimation-90e8930e5348\n",
    "\n",
    "\n",
    "Doing bayesian data analysis (Kruschke) - this is a text book but it's very easy to read:\n",
    "\n",
    "https://www.amazon.com/Doing-Bayesian-Data-Analysis-Tutorial/dp/0124058884/ref=sr_1_2?gclid=Cj0KCQjwtr_mBRDeARIsALfBZA5eGMYTq2sXJYqDWP7tDLtVCZyQBTF3q2i5fxBKK3yLyXk1lxZ0yWAaAtmVEALw_wcB&hvadid=177324924950&hvdev=c&hvlocphy=1018127&hvnetw=g&hvpos=1t1&hvqmt=e&hvrand=6582771769838659026&hvtargid=kwd-28002132345&hydadcr=3208_9861567&keywords=doing+bayesian+data+analysis&qid=1557190781&s=gateway&sr=8-2\n",
    "\n",
    "\n",
    "Information on conjugate priors (including a table to calculate posterior distributions for conjugate priors):\n",
    "\n",
    "https://en.wikipedia.org/wiki/Conjugate_prior\n",
    "\n",
    "\n",
    "Bayes theorem:\n",
    "\n",
    "https://en.wikipedia.org/wiki/Bayes%27_theorem"
   ]
  },
  {
   "cell_type": "markdown",
   "metadata": {},
   "source": [
    "## Some questions you may want to answer with data...\n",
    "- How much is one group different from another? \n",
    "- Can we be sure that the difference between groups is non-zero?\n",
    "- What is the magnitude of the difference and how certain are we about this magnitude?\n",
    "\n",
    "### We need statistical methods to answer questions with data because data is noisy\n",
    "\n",
    "### Bayesian analysis is more intuitive than traditional methods of null hypothesis testing"
   ]
  },
  {
   "cell_type": "markdown",
   "metadata": {
    "collapsed": true
   },
   "source": [
    "# A few notes on Bayesian inference \n",
    "- Bayesian inference is the reallocation of credibility across a space of candidate possibilities\n",
    "- We realocate belief toward the parameter values that are consistent with the data, and away from parameter values are the inconsistent with the data\n",
    "- Based on Bayes theorem - but we represent models of our data using distributions rather than single values\n",
    "- We don't need p-values for bayesian inference!\n",
    "- Bayesian methods can accept the null hypotheses (unlike traditional hypothesis testing methods)\n",
    "- Decisions based on Bayesian analysis are better founded than traditional null hypothesis testing, whether or not the two methods agree\n",
    "- Bayesian estimation does not require the assumption that the data are normally distributed\n",
    "- The size of your data (N) and the \"sharpness\" of your prior impact the posterior (see page 112 - 115 in the kruschke book) "
   ]
  },
  {
   "cell_type": "markdown",
   "metadata": {},
   "source": [
    "# Some definitions:\n",
    "\n",
    "### Bayes theorem for parameters:\n",
    "P(paramter | data) = P(parameters) * P(data | parameters) / P(data)\n",
    "we usually get rid of P(data) because it is just a normalizing constant to ensure our probability distribution sums to one, and it is almost always very difficult (or impossible) to calculate. If we toss out the normalizing constant P(data) bayest theorm becomes P(paramter | data) is proportional to P(parameters) * P(data | parameters) / P(data) \n",
    "\n",
    "You can think of it as -> Posterior = Prior distribution (prior beliefs) * Likelihood (data) \n",
    "\n",
    "### Prior distribution:\n",
    "P(parameters) -> expresses our previous knowledge about parameter values, without including new data (but can include previously collected data or subject matter expertise / experience) - unless you have good reason to believe otherwise, usually make the prior distribution very broad and vague so that it doesn't overwhelm the posterior\n",
    "\n",
    "### Likelihood: \n",
    "P(data | parameters) -> Essentially, this is a model (distribution) used to represent our data\n",
    "\n",
    "### Posterior: \n",
    "This is the result of applying bayes theorem for models - our beliefs about the parameter values after we have multiplied the prior and the likelihood\n",
    "\n",
    "### Conjugate Distribution\n",
    "A special case that arises when the posterior distribution is from the same probability distribution family as the likelihood and the prior distributions. This is helpful because when you have conjugate distributions, it is possible to analytically determine the posterior distribution. Though sometimes it is still easier to use an approximation method such as markov chain montecarlo (mcmc) to determine the posterior. "
   ]
  },
  {
   "cell_type": "markdown",
   "metadata": {},
   "source": [
    "## Example 1:\n",
    "We want to estimate the average height of women in WiMLDS Boston, using the women that are in this tutorial. Select a sensible prior and likelihood, then calculate the posterior distribution (if possible). If it is not possible to calculate the posterior distribution, discuss how you would go about approximating it. \n",
    "\n",
    "hint: https://www.usablestats.com/lessons/normal"
   ]
  },
  {
   "cell_type": "code",
   "execution_count": 2,
   "metadata": {
    "collapsed": true
   },
   "outputs": [],
   "source": [
    "mu_prior, sigma_prior = 65, 10 # This is our prior belief about the value of mu. \n",
    "# Usually we try to make the prior distrubution less certain (wider standard deviation) unless we are very certain\n",
    "# in our prior beliefs. See page 112-115 in the Kruschke book. \n",
    "\n",
    "# Get the heights of everyone in the tutorial\n",
    "data = [61, 70, 69, 59, 64, 57, 67]"
   ]
  },
  {
   "cell_type": "markdown",
   "metadata": {},
   "source": [
    "Now we need to calculate or approximate the posterior distribution. Are our distributions conjugate? is there an equation we can use to calculate the posterior? Hint: https://en.wikipedia.org/wiki/Conjugate_prior\n",
    "\n",
    "Is it ok to assume we know the standard deviation of the data? Sometime yes and sometimes no - when doing this in the \"real world\" we almost always discuss this and come to some sort of agreement depending on the situation. If at all possible we try not to make this assumption, and usually use markov chain montecarlo to approximate the posterior distribution. But, for the purposes of this tutorial this assumption will make calculating the posterior much easier (and mcmc is outside the scope of this tutorial). For now we will assume that the standard deviation is known and is equal to the standard deviation of the data. We can discuss why this is probably \"ok\" in our situation. But note that when you make this assumption, you can no longer calculate the posterior for standard deviation (unless you assume the mu is known and equal to the mu of your data). "
   ]
  },
  {
   "cell_type": "markdown",
   "metadata": {},
   "source": [
    "Note that the precision is 1 / variance - the equations are less ugly when we work with precision instead of standard deviation\n"
   ]
  },
  {
   "cell_type": "markdown",
   "metadata": {},
   "source": [
    "Now let's make a function to calculate the posterior distribution:"
   ]
  },
  {
   "cell_type": "code",
   "execution_count": 3,
   "metadata": {},
   "outputs": [],
   "source": [
    "def get_posterior(mu_prior: float, sigma_prior: float, data: List[float]) -> Tuple[float, float]:\n",
    "    # In this case we will assume the variance of the data is the variance of the population\n",
    "    mu_data = np.mean(data)\n",
    "    precision_prior = 1 / sigma_prior ** 2 \n",
    "    precision_data = 1 / np.std(data) **2\n",
    "    n = len(data)\n",
    "    term_1 = precision_prior * mu_prior / (n * precision_data + precision_prior)\n",
    "    term_2 = precision_data * mu_data *  n / (n * precision_data + precision_prior)\n",
    "    mu_posterior = term_1 + term_2\n",
    "    precision_posterior = precision_prior + n * precision_data\n",
    "    var_posterior = 1 / precision_posterior\n",
    "    return mu_posterior, np.sqrt(var_posterior)"
   ]
  },
  {
   "cell_type": "code",
   "execution_count": 4,
   "metadata": {},
   "outputs": [
    {
     "name": "stdout",
     "output_type": "stream",
     "text": [
      "mu posterior = 63.89, sigma posterior: 1.74\n"
     ]
    }
   ],
   "source": [
    "mu_posterior, sigma_posterior = get_posterior(sigma_prior=sigma_prior, mu_prior=mu_prior, data=data)\n",
    "print(f\"mu posterior = {mu_posterior:.2f}, sigma posterior: {sigma_posterior:.2f}\")"
   ]
  },
  {
   "cell_type": "markdown",
   "metadata": {},
   "source": [
    "If the standard deviation of the posterior is small, it means we are quite certain that our mean is near the mu_posterior value. Conversely, if the standard deviation is large, it means that we are uncertain about the value of the mean. Also notice that as N increases, it overwhelms the prior distribution."
   ]
  },
  {
   "cell_type": "markdown",
   "metadata": {},
   "source": [
    "## Example 2\n",
    " Now imagine that you are working with a chemist to determine the potency, measured in micromolar (uM), of two compounds A and B in an assay, and then determine which compound is more potent. Potency in this assay can range from <1 uM (highly potent) to >1000 uM (not potent). You have taken 3 replicate measurements of compound A and compound B in the assay, which you can use to estimate the mean potency of each compound. You also have replicate measurements from a few standard compounds for which the true potency (20 uM) is known. You can use these replicates to estimate the assay variability. Though the range of potencies observed in this assay is between <1 and >1000 uM, the vast majority of compounds tested are between 25 and 400 uM (see Figure 1 below).  \n",
    "\n",
    "First, let's plot all of the data from the assay to determine how the data are distributed."
   ]
  },
  {
   "cell_type": "code",
   "execution_count": 5,
   "metadata": {},
   "outputs": [],
   "source": [
    "all_data = np.random.lognormal(4, 1, 1000) # Make some example data"
   ]
  },
  {
   "cell_type": "code",
   "execution_count": 6,
   "metadata": {},
   "outputs": [
    {
     "data": {
      "image/png": "[encoded data removed]",
      "text/plain": [
       "<matplotlib.figure.Figure at 0x1a12f67f60>"
      ]
     },
     "metadata": {},
     "output_type": "display_data"
    }
   ],
   "source": [
    "num_bins = 100\n",
    "n, bins, patches = plt.hist(all_data, num_bins, facecolor='blue', alpha=0.5)\n",
    "plt.title('Figure 1: Histogram of all data from Assay X')\n",
    "plt.xlabel('Potency (uM)')\n",
    "plt.ylabel('Count')\n",
    "plt.show()"
   ]
  },
  {
   "cell_type": "markdown",
   "metadata": {},
   "source": [
    "It looks like the data may be lognormally distributed... https://en.wikipedia.org/wiki/Log-normal_distribution\n",
    "Let's try plotting the log of the data"
   ]
  },
  {
   "cell_type": "code",
   "execution_count": 7,
   "metadata": {},
   "outputs": [
    {
     "data": {
      "image/png": "[encoded data removed]",
      "text/plain": [
       "<matplotlib.figure.Figure at 0x1a17fabac8>"
      ]
     },
     "metadata": {},
     "output_type": "display_data"
    }
   ],
   "source": [
    "log_data = [math.log(a) for a in all_data]\n",
    "num_bins = 100\n",
    "n, bins, patches = plt.hist(log_data, num_bins, facecolor='blue', alpha=0.5)\n",
    "plt.title('Figure 2: Histogram of all logged data from Assay X')\n",
    "plt.xlabel('Log of potency')\n",
    "plt.ylabel('Count')\n",
    "plt.show()"
   ]
  },
  {
   "cell_type": "markdown",
   "metadata": {},
   "source": [
    "Now let's try to quantify the noisiness of the assay. We will do this by calculating the standard deviation of replicates for the standard, compounds X, Y, Z, for which we have 100 measurements each. "
   ]
  },
  {
   "cell_type": "code",
   "execution_count": 8,
   "metadata": {},
   "outputs": [],
   "source": [
    "# Data for compound X (reference compound with known potency of 20 uM)\n",
    "# Hint: random noise in data is typically normally distributed, even if your data is not normally distributed\n",
    "cmpd_x_measurements = np.random.normal(20, 2.5, 100)\n",
    "cmpd_y_measurements = np.random.normal(32, 2, 100)\n",
    "cmpd_z_measurements = np.random.normal(10, 1.8, 100)"
   ]
  },
  {
   "cell_type": "code",
   "execution_count": 9,
   "metadata": {},
   "outputs": [],
   "source": [
    "cmpd_x_std, cmpd_y_std, cmpd_z_std = np.std(cmpd_x_measurements), np.std(cmpd_y_measurements), np.std(cmpd_z_measurements)"
   ]
  },
  {
   "cell_type": "code",
   "execution_count": 10,
   "metadata": {},
   "outputs": [],
   "source": [
    "assay_noise_std = np.mean([cmpd_x_std, cmpd_y_std, cmpd_z_std])"
   ]
  },
  {
   "cell_type": "code",
   "execution_count": 11,
   "metadata": {},
   "outputs": [
    {
     "data": {
      "text/plain": [
       "2.1574533997504557"
      ]
     },
     "execution_count": 11,
     "metadata": {},
     "output_type": "execute_result"
    }
   ],
   "source": [
    "assay_noise_std"
   ]
  },
  {
   "cell_type": "markdown",
   "metadata": {},
   "source": [
    "Now we will assume that this is the standard deviation of the data and we can use this \"known\" standard deviation to estimate the potency of each compound based on the measurements we have collected. But first we will need to take the log of the standard deviation, since we are working in the log space. "
   ]
  },
  {
   "cell_type": "code",
   "execution_count": 12,
   "metadata": {},
   "outputs": [],
   "source": [
    "log_assay_noise_std = math.log(assay_noise_std)"
   ]
  },
  {
   "cell_type": "code",
   "execution_count": 13,
   "metadata": {
    "collapsed": true
   },
   "outputs": [],
   "source": [
    "actual_a_potency, actual_b_potency = 9, 12.5 # These values are unknown to us in real life "
   ]
  },
  {
   "cell_type": "code",
   "execution_count": 14,
   "metadata": {},
   "outputs": [
    {
     "data": {
      "text/plain": [
       "(array([ 8.29820324]), array([ 13.40287196]))"
      ]
     },
     "execution_count": 14,
     "metadata": {},
     "output_type": "execute_result"
    }
   ],
   "source": [
    "cmpd_a_data = np.random.normal(actual_a_potency, assay_noise_std, 1)\n",
    "cmpd_b_data = np.random.normal(actual_b_potency, assay_noise_std, 1)\n",
    "cmpd_a_data, cmpd_b_data"
   ]
  },
  {
   "cell_type": "code",
   "execution_count": 15,
   "metadata": {
    "collapsed": true
   },
   "outputs": [],
   "source": [
    "log_a = [math.log(a) for a in cmpd_a_data]\n",
    "log_b = [math.log(b) for b in cmpd_b_data]"
   ]
  },
  {
   "cell_type": "markdown",
   "metadata": {},
   "source": [
    "Now we need to develop a reasonable posterior for the data... "
   ]
  },
  {
   "cell_type": "code",
   "execution_count": 16,
   "metadata": {
    "collapsed": true
   },
   "outputs": [],
   "source": [
    "mu_prior, sigma_prior = 4, 10"
   ]
  },
  {
   "cell_type": "markdown",
   "metadata": {},
   "source": [
    "Now lets plot our posterior to see if it seems reasonable"
   ]
  },
  {
   "cell_type": "code",
   "execution_count": 17,
   "metadata": {
    "collapsed": true
   },
   "outputs": [],
   "source": [
    "posterior_samples = np.random.normal(mu_prior, sigma_prior, 10000)"
   ]
  },
  {
   "cell_type": "code",
   "execution_count": 18,
   "metadata": {},
   "outputs": [
    {
     "data": {
      "image/png": "[encoded data removed]",
      "text/plain": [
       "<matplotlib.figure.Figure at 0x1a1b40bb00>"
      ]
     },
     "metadata": {},
     "output_type": "display_data"
    }
   ],
   "source": [
    "num_bins = 100\n",
    "n, bins, patches = plt.hist(posterior_samples, num_bins, facecolor='blue', alpha=0.5)\n",
    "plt.title('Figure 3: Posterior distribution')\n",
    "plt.xlabel('Log of potency')\n",
    "plt.ylabel('Count')\n",
    "plt.show()"
   ]
  },
  {
   "cell_type": "markdown",
   "metadata": {},
   "source": [
    "Now let's calculate the posterior distribution:"
   ]
  },
  {
   "cell_type": "code",
   "execution_count": 19,
   "metadata": {
    "collapsed": true
   },
   "outputs": [],
   "source": [
    "def get_posterior_known_var(mu_prior: float, sigma_prior: float, data: List[float], data_sigma: float) -> Tuple[float, float]:\n",
    "    # Now we will use the variance we previously calculated \n",
    "    mu_data = np.mean(data)\n",
    "    precision_prior = 1 / sigma_prior ** 2 \n",
    "    precision_data = 1 / data_sigma **2\n",
    "    n = len(data)\n",
    "    term_1 = precision_prior * mu_prior / (n * precision_data + precision_prior)\n",
    "    term_2 = precision_data * mu_data *  n / (n * precision_data + precision_prior)\n",
    "    mu_posterior = term_1 + term_2\n",
    "    precision_posterior = precision_prior + n * precision_data\n",
    "    var_posterior = 1 / precision_posterior\n",
    "    return mu_posterior, np.sqrt(var_posterior)"
   ]
  },
  {
   "cell_type": "code",
   "execution_count": 20,
   "metadata": {},
   "outputs": [
    {
     "name": "stdout",
     "output_type": "stream",
     "text": [
      "mu a = 2.1271124826863823, sigma_a = 0.7666654258946338\n",
      "mu_b = 2.6037245038237566, sigma_b= 0.7666654258946338\n"
     ]
    }
   ],
   "source": [
    "mu_a, sigma_a = get_posterior_known_var(mu_prior=mu_prior, sigma_prior=sigma_prior, data=log_a, data_sigma=log_assay_noise_std)\n",
    "mu_b, sigma_b = get_posterior_known_var(mu_prior=mu_prior, sigma_prior=sigma_prior, data=log_b, data_sigma=log_assay_noise_std)\n",
    "print(f\"mu a = {mu_a}, sigma_a = {sigma_a}\")\n",
    "print(f\"mu_b = {mu_b}, sigma_b= {sigma_b}\")"
   ]
  },
  {
   "cell_type": "code",
   "execution_count": 21,
   "metadata": {},
   "outputs": [
    {
     "name": "stdout",
     "output_type": "stream",
     "text": [
      "potency estimate of compound a = 8.39 uM\n",
      "potency estimate of compound b = 13.51 uM \n"
     ]
    }
   ],
   "source": [
    "mu_a_potency = math.exp(mu_a)\n",
    "mu_b_potency = math.exp(mu_b)\n",
    "print(f\"potency estimate of compound a = {mu_a_potency:.2f} uM\")\n",
    "print(f\"potency estimate of compound b = {mu_b_potency:.2f} uM \")"
   ]
  },
  {
   "cell_type": "markdown",
   "metadata": {},
   "source": [
    "Is compound a more potent than compound b? Let's start creating the distribution of means for each compound:"
   ]
  },
  {
   "cell_type": "code",
   "execution_count": 22,
   "metadata": {
    "collapsed": true
   },
   "outputs": [],
   "source": [
    "dist_a = np.random.normal(mu_a, sigma_a, 1000)\n",
    "dist_b = np.random.normal(mu_b, sigma_b, 1000)"
   ]
  },
  {
   "cell_type": "code",
   "execution_count": 23,
   "metadata": {},
   "outputs": [
    {
     "name": "stdout",
     "output_type": "stream",
     "text": [
      "There is a 64.50% chance that a is more potent than b\n"
     ]
    }
   ],
   "source": [
    "diff = dist_a - dist_b\n",
    "frac_a_less_than_b = sum(diff < 0) / len(diff)\n",
    "print(f\"There is a {frac_a_less_than_b*100:.2f}% chance that a is more potent than b\")"
   ]
  },
  {
   "cell_type": "markdown",
   "metadata": {},
   "source": [
    "Usually we say if >95% the the samples pulled from the distributions of a are less than b, a is more potent than b. (note: you don't have to use 95%, this is up to your discretion, but usually we use 95% to determine statistical significance) "
   ]
  },
  {
   "cell_type": "markdown",
   "metadata": {},
   "source": [
    "Now let's see what happens if we add some more data..."
   ]
  },
  {
   "cell_type": "code",
   "execution_count": 25,
   "metadata": {
    "collapsed": true
   },
   "outputs": [],
   "source": [
    "cmpd_a_data = np.random.normal(actual_a_potency, assay_noise_std, 20)\n",
    "cmpd_b_data = np.random.normal(actual_b_potency, assay_noise_std, 20)\n",
    "log_a = [math.log(a) for a in cmpd_a_data]\n",
    "log_b = [math.log(b) for b in cmpd_b_data]"
   ]
  },
  {
   "cell_type": "code",
   "execution_count": 26,
   "metadata": {},
   "outputs": [
    {
     "name": "stdout",
     "output_type": "stream",
     "text": [
      "mu a = 2.15987125117229, sigma_a = 0.1719122405982842\n",
      "mu_b = 2.588143367088603, sigma_b= 0.1719122405982842\n"
     ]
    }
   ],
   "source": [
    "mu_a, sigma_a = get_posterior_known_var(mu_prior=mu_prior, sigma_prior=sigma_prior, data=log_a, data_sigma=log_assay_noise_std)\n",
    "mu_b, sigma_b = get_posterior_known_var(mu_prior=mu_prior, sigma_prior=sigma_prior, data=log_b, data_sigma=log_assay_noise_std)\n",
    "print(f\"mu a = {mu_a}, sigma_a = {sigma_a}\")\n",
    "print(f\"mu_b = {mu_b}, sigma_b= {sigma_b}\")"
   ]
  },
  {
   "cell_type": "code",
   "execution_count": 27,
   "metadata": {},
   "outputs": [
    {
     "name": "stdout",
     "output_type": "stream",
     "text": [
      "potency estimate of cmpd a = 8.67 uM\n",
      "potency estimate of compound b = 13.31 uM\n"
     ]
    }
   ],
   "source": [
    "mu_a_potency = math.exp(mu_a)\n",
    "mu_b_potency = math.exp(mu_b)\n",
    "print(f\"potency estimate of cmpd a = {mu_a_potency:.2f} uM\")\n",
    "print(f\"potency estimate of compound b = {mu_b_potency:.2f} uM\")"
   ]
  },
  {
   "cell_type": "markdown",
   "metadata": {},
   "source": [
    "Let's plot our potency estimates for the two compounds, and compare their distributions"
   ]
  },
  {
   "cell_type": "code",
   "execution_count": 28,
   "metadata": {
    "collapsed": true
   },
   "outputs": [],
   "source": [
    "dist_a = np.random.normal(mu_a, sigma_a, 1000)\n",
    "dist_b = np.random.normal(mu_b, sigma_b, 1000)"
   ]
  },
  {
   "cell_type": "code",
   "execution_count": 29,
   "metadata": {},
   "outputs": [
    {
     "name": "stdout",
     "output_type": "stream",
     "text": [
      "There is a 96.10% chance that a is more potent than b\n"
     ]
    }
   ],
   "source": [
    "diff = dist_a - dist_b\n",
    "frac_a_less_than_b = sum(diff < 0) / len(diff)\n",
    "print(f\"There is a {frac_a_less_than_b*100:.2f}% chance that a is more potent than b\")"
   ]
  },
  {
   "cell_type": "markdown",
   "metadata": {},
   "source": [
    "Now we can say that compound a is more potent than compound b. "
   ]
  }
 ],
 "metadata": {
  "kernelspec": {
   "display_name": "Python 3",
   "language": "python",
   "name": "python3"
  },
  "language_info": {
   "codemirror_mode": {
    "name": "ipython",
    "version": 3
   },
   "file_extension": ".py",
   "mimetype": "text/x-python",
   "name": "python",
   "nbconvert_exporter": "python",
   "pygments_lexer": "ipython3",
   "version": "3.6.3"
  }
 },
 "nbformat": 4,
 "nbformat_minor": 2
}
